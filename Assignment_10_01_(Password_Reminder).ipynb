{
  "nbformat": 4,
  "nbformat_minor": 0,
  "metadata": {
    "colab": {
      "name": "Assignment - 10/01 (Password Reminder).ipynb",
      "provenance": [],
      "authorship_tag": "ABX9TyO0WG8pjLpIfmV3v0ZRkDQx",
      "include_colab_link": true
    },
    "kernelspec": {
      "name": "python3",
      "display_name": "Python 3"
    },
    "language_info": {
      "name": "python"
    }
  },
  "cells": [
    {
      "cell_type": "markdown",
      "metadata": {
        "id": "view-in-github",
        "colab_type": "text"
      },
      "source": [
        "<a href=\"https://colab.research.google.com/github/ismailiscii/python_assignment/blob/main/Assignment_10_01_(Password_Reminder).ipynb\" target=\"_parent\"><img src=\"https://colab.research.google.com/assets/colab-badge.svg\" alt=\"Open In Colab\"/></a>"
      ]
    },
    {
      "cell_type": "code",
      "metadata": {
        "id": "xor6RgLZ3ZkG"
      },
      "source": [
        "name = (input(\"please enter your name: \")).title()\n",
        "\n",
        "if name == \"joseph\":\n",
        "  print(\"Hello, Joseph! The password is : W@12\")\n",
        "else:\n",
        "  print(f\"Hello, {name}! See you later.\")\n",
        "\n",
        "GitHub"
      ],
      "execution_count": null,
      "outputs": []
    }
  ]
}