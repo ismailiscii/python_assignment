{
  "nbformat": 4,
  "nbformat_minor": 0,
  "metadata": {
    "colab": {
      "name": "assignment_password_reminder.ipynb",
      "provenance": [],
      "authorship_tag": "ABX9TyNTw79Q7PKu1AcZ8feR4bIL",
      "include_colab_link": true
    },
    "kernelspec": {
      "name": "python3",
      "display_name": "Python 3"
    },
    "language_info": {
      "name": "python"
    }
  },
  "cells": [
    {
      "cell_type": "markdown",
      "metadata": {
        "id": "view-in-github",
        "colab_type": "text"
      },
      "source": [
        "<a href=\"https://colab.research.google.com/github/ismailiscii/python_assignment/blob/main/assignment_password_reminder.ipynb\" target=\"_parent\"><img src=\"https://colab.research.google.com/assets/colab-badge.svg\" alt=\"Open In Colab\"/></a>"
      ]
    },
    {
      "cell_type": "code",
      "metadata": {
        "id": "J0O-LvsqZ2iI"
      },
      "source": [
        "asdfg c nbc"
      ],
      "execution_count": null,
      "outputs": []
    }
  ]
}